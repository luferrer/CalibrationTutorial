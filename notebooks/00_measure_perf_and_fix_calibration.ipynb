{
 "cells": [
  {
   "attachments": {},
   "cell_type": "markdown",
   "metadata": {},
   "source": [
    "# How to measure posterior performance and fix calibration\n",
    "\n",
    "This notebook shows how to measure the performance of posterior probabilities for a test dataset, including the overall performance assessed with expected proper scoring rules (EPSRs) like the cross-entropy, and calibration performance assessed with calibration loss. When calibration is poor, the calibration transform trained to compute calibration loss can be added as a new stage in your system to improve the quality of the posteriors.\n",
    "\n",
    "This is a basic and simple analysis that should always be done when developing classification systems when the scores are meant to be interpretable or used for decision making with Bayes decision theory.\n",
    "\n",
    "The first few blocks explain the process in detail. The last block has a summary of all the steps from the previous blocks. Once you have the scores and targets loaded up, all you need are a handfull of lines of code."
   ]
  },
  {
   "cell_type": "code",
   "execution_count": 1,
   "metadata": {
    "colab": {
     "base_uri": "https://localhost:8080/"
    },
    "id": "3gEIJ0m_bAvI",
    "outputId": "b921aa6c-05d4-4556-bb13-82234f2ea7e9"
   },
   "outputs": [],
   "source": [
    "import numpy as np\n",
    "from expected_cost import utils\n",
    "from expected_cost.data import create_scores_for_expts\n",
    "from expected_cost.calibration import calibration_with_crossval, calibration_train_on_heldout\n",
    "from expected_cost.psrcal_wrappers import Brier, LogLoss\n",
    "from psrcal.calibration import AffineCalLogLoss, AffineCalBrier, HistogramBinningCal\n"
   ]
  },
  {
   "attachments": {},
   "cell_type": "markdown",
   "metadata": {},
   "source": [
    "\n",
    "## Note on the input scores\n",
    "\n",
    "This notebook assumes the scores are log-posteriors NOT posteriors. This is to avoid numerical issues when taking the exponential. \n",
    "\n",
    "If your model outputs posteriors, you can take the logarithm. If you happen to have some\n",
    "posteriors=0, this will give infinite and you won't be able to run the methods below. In that case,\n",
    "you can replace those zeroes by some very small number. Ideally, though, you should have your model\n",
    "directly output log-posteriors. \n",
    "\n",
    "Below we cover how to get the log-posteriors from some common model outputs\n",
    "\n",
    "### Preactivations from a softmax DNN layer\n",
    "\n",
    "If your model outputs pre-activations from a DNN which has softmax activation in the last layer,\n",
    "you'll need to apply log-softmax to get the log-posteriors. Ideally, do not do this by doing\n",
    "log(softmax). Rather, use the log_softmax method from scipy or some equivalent method, to avoid\n",
    "numerical problems.\n",
    "\n",
    "### Log-likelihood ratios\n",
    "\n",
    "If your model outputs log-likelihood-ratios (like the PLDA models used for speaker or face\n",
    "verification), then to get the log-posteriors you can do:\n",
    "\n",
    "```\n",
    "scores = utils.llrs_to_logpost(preactivations, priors)\n",
    "```\n",
    "\n",
    "where the $\\mathrm{priors} = [p_1,\\ p_2]$ are the priors you expect to see when you deploy the\n",
    "system, which may or may not coincide with the class frequencies in your test data. Note that, if they do not coincide, \n",
    "you also need to set the ```deploy_priors``` variable, as explained below.\n",
    "\n",
    "If you are considering different costs for each type of error, as usually done in speaker\n",
    "verification, this is equivalent to changing the priors. In that case you can take the priors above\n",
    "to be $[1-p_{e},\\ p_{e}]$ with \n",
    "\n",
    "$$p_{e} = \\frac{c_{12}\\ p_1}{(c_{12}\\ p_1 + c_{21}\\ p_2)}$$\n",
    "\n",
    "where $p_1$ and $p_2$ are the priors we expect to see at deployment and $c_{ij}$ is the cost for deciding \n",
    "class $j$ when the true class was $i$.\n",
    "\n",
    "### Preactivations from a sigmoid DNN layer\n",
    "\n",
    "If your model outputs pre-activations from a DNN which has sigmoid activation in the last layer,\n",
    "those values correspond to $\\log(p/(1-p))$, where $p$ is the posterior for one of the classes (the one you are using as target). To get the posteriors you can use the following line:\n",
    "\n",
    "```\n",
    "scores = utils.llrs_to_logpost(preactivations, [1,1]) \n",
    "```\n",
    "\n",
    "### Support vector machines\n",
    "\n",
    "If you are working with SVM scores, you need to use the distances to the hyperplane as\n",
    "scores.\n"
   ]
  },
  {
   "attachments": {},
   "cell_type": "markdown",
   "metadata": {},
   "source": [
    "## Load and format the data\n",
    "\n",
    "The first step is to get the test set and, optionally, a held-out set, into the format required for the next steps.\n",
    "\n",
    "For this notebook we create the scores using a Gaussian model. \n",
    "If you want to use this for your own data, you need to get the scores and the targets in the same format as below and the rest of the code should work without changes.\n",
    "\n",
    "* **Scores**: numpy array with shape N x K, where N is the number of samples and K is the number of classes. As explained above, the **scores should be log posteriors**. This is very important since the methods for metric calculation and for calibration  assume this is the case. \n",
    "\n",
    "* **Targets**: numpy array of N integers between 0 and K-1 indicating the label of each sample.\n",
    "  \n",
    "We will always have some test data, with its corresponding scores and targets, `scores_tst` and `targets_tst`. Further, in some cases, we might also have some held-out data which we can use for training the calibration transform. We will call those variables `scores_trn` and `targets_trn`.\n",
    "\n",
    "### Warnings\n",
    "\n",
    "* The training data for the calibration transform should not be extracted from the data used to train the classifier. The scores on the data used to train the classifier will likely be optimistically biased and, hence, not a good representation of the scores we will get on unseen data. If all the data available was either already used to train the classifier (and you have no chance of retraining it after leaving some data out for calibration) or is part of the test set, you may consider holding out some of the test data for this purpose. Alternatively, if that is not an option, either because the test set is too small or because you have prior results on the full test set that you want to be able to compare against, then doing cross-validation is your best option.\n",
    "\n",
    "* While we include train-on-test results below, we suggest never to do this on small test sets and/or when the number of classes is relatively large, in which cases overfitting of the calibration transform needed to compute calibration metrics is extremely likely. Note that this is true for any calibration metric, not just calibration loss. All calibration metrics need to train a calibration transform (parametric or non-parametric) either implicitly or explicitly. \n",
    "\n"
   ]
  },
  {
   "cell_type": "code",
   "execution_count": 2,
   "metadata": {},
   "outputs": [],
   "source": [
    "# Create some simulated data. You can change this cell to load your own data as long as in the end\n",
    "# you have defined scores_tst and target_tst, and, optionally, scores_trn and targets_trn.\n",
    "\n",
    "# You can play with the parameters below to create data for different number of classes (K),\n",
    "# different priors (P0), different number of samples (N), and different difficulty (std).\n",
    "P0 = 0.9\n",
    "N = 10000\n",
    "K = 2\n",
    "std = 0.15\n",
    "\n",
    "# The method below creates a bunch of different scores, all with the same targets and puts them in\n",
    "# score_dict.\n",
    "score_dict, targets = create_scores_for_expts(K, P0=P0, feat_std=0.15, N=N)\n",
    "\n",
    "# You can use different scores from the scores_dict:\n",
    "\n",
    "# Well-calibrated ones:\n",
    "# scores = score_dict['cal']['Datap'] \n",
    "\n",
    "# Miscalibrated due to scaling in the logit domain\n",
    "# scores = score_dict['mc2']['Datap'] \n",
    "\n",
    "# Miscalibrated due to mismatched priors between training and test data\n",
    "# scores = score_dict['cal']['Mismp'] \n",
    "\n",
    "# Miscalibrated for both reasons\n",
    "scores = score_dict['mc2']['Mismp'] \n",
    "\n",
    "# Split that data into tst and trn. If you have two separate sets, you can just load them directly\n",
    "# into their corresponding variables. You can also leave the trn scores as None and do train-on-test\n",
    "# or cross-validation. \n",
    "\n",
    "shuf = np.arange(len(targets)-1)\n",
    "np.random.shuffle(shuf)\n",
    "scores = scores[shuf]\n",
    "targets = targets[shuf]\n",
    "\n",
    "N_tst = int(N/2)\n",
    "scores_tst = scores[:N_tst]\n",
    "scores_trn = scores[N_tst:]\n",
    "\n",
    "targets_tst = targets[:N_tst]\n",
    "targets_trn = targets[N_tst:]\n",
    "\n",
    "# Finally, when doing cross-validation to get the calibrated scores, we might want to create the\n",
    "# folds by condition. The condition is any factor other than the class that might create\n",
    "# correlations between the samples (eg, the speaker if you are doing emotion detection, or the\n",
    "# patient in medical imaging). In that case, you just need to define an array where you indicate the\n",
    "# condition of each sample in scores_tst as an index. This array will be used when doing\n",
    "# cross-validation. If you leave conditions_tst as None, it will do the standard cross-validation,\n",
    "# splitting into folds by sample.\n",
    "condition_ids = None\n"
   ]
  },
  {
   "cell_type": "code",
   "execution_count": 3,
   "metadata": {},
   "outputs": [],
   "source": [
    "# If scores_trn is not defined (because you changed the cell above and you do not have held-out data\n",
    "# for training calibration), set it to be scores_tst. This simplifies the code below, avoiding lots\n",
    "# of ifs for the case in which scores_trn is None. By doing this assignment we can implement \n",
    "# test-on-train using the same code as the case that uses held-out data for training.\n",
    "\n",
    "if scores_trn is None:\n",
    "    scores_trn = scores_tst\n",
    "    targets_trn = targets_tst"
   ]
  },
  {
   "cell_type": "code",
   "execution_count": 4,
   "metadata": {},
   "outputs": [
    {
     "data": {
      "image/png": "[encoded data removed]",
      "text/plain": [
       "<Figure size 700x250 with 1 Axes>"
      ]
     },
     "metadata": {},
     "output_type": "display_data"
    }
   ],
   "source": [
    "# Plot the distributions as a sanity check, to verify that things look OK and that trn and tst\n",
    "# distributions are reasonably similar. Ideally, each of the plotted curves should be unimodal and\n",
    "# somewhat Gaussian. In that scenario, everything we will do below should work quite well. If that\n",
    "# is not the case (very non-Gaussian or multi-modal per-class per-score distributions) then the\n",
    "# affine calibration model may not be great and you might want to explore other options in the\n",
    "# literature. You should probably still use the affine transform as baseline, though, since even \n",
    "# in those cases we have seen it produce reasonably calibrated scores.\n",
    "\n",
    "# Instead of plotting log-posteriors which do not look great and are redundant (since the posteriors\n",
    "# sum to 1), we plot log(P_i)-log(P_{K-1}), for i=0,...,K-2. \n",
    "\n",
    "log_odds_tst = scores_tst[:,:-1]-scores_tst[:,-1][:,np.newaxis]\n",
    "log_odds_trn = scores_trn[:,:-1]-scores_trn[:,-1][:,np.newaxis]\n",
    "\n",
    "# We plot the distribution for samples of each class and each of the columns in the log odds. For\n",
    "# binary classification there's only two distributions so we plot them together. For multi-class\n",
    "# classification it makes more sense to group the distributions by score.\n",
    "group_by = 'all' if K==2 else 'target'\n",
    "\n",
    "axs = utils.plot_hists(targets_tst, log_odds_tst, nbins=40, group_by=group_by, style='-', label_prefix='tst ')\n",
    "axs = utils.plot_hists(targets_trn, log_odds_trn, nbins=40, group_by=group_by, style=':', label_prefix='trn ', axs=axs)\n",
    "\n",
    "# If you are curious about how the posteriors look like, simply uncomment this:\n",
    "# axs = utils.plot_hists(targets_tst, np.exp(scores_tst), nbins=40, group_by=group_by, style='-', label_prefix='tst ')\n",
    "# axs = utils.plot_hists(targets_trn, np.exp(scores_trn), nbins=40, group_by=group_by, style=':', label_prefix='trn ', axs=axs)\n",
    "# As you can see those plots are not as nice the log_odds ones. \n",
    "\n",
    "# You can also plot the log posteriors, which look better than the posteriors, but do not have the \n",
    "# satisfying gaussian distributions.\n",
    "# axs = utils.plot_hists(targets_tst, scores_tst, nbins=40, group_by=group_by, style='-', label_prefix='tst ')\n",
    "# axs = utils.plot_hists(targets_trn, scores_trn, nbins=40, group_by=group_by, style=':', label_prefix='trn ', axs=axs)\n",
    "\n"
   ]
  },
  {
   "attachments": {},
   "cell_type": "markdown",
   "metadata": {},
   "source": [
    "## Measure overall performance using a normalized EPSR\n",
    "\n",
    "We can now compute some normalized EPSR (cross-entropy or Brier, in our example). If this value is larger than 1, we already know we should be able to improve the posteriors through calibration (eg, by transforming the scores with some function trained to minimize the EPSR), at the very least by mapping them to the priors. If the value is smaller than 1, we know that the posteriors are informative, yet we might be able to do better. But we will look at that in the next cell. For now, let's just measure the overall performance of our posteriors.\n"
   ]
  },
  {
   "cell_type": "code",
   "execution_count": 5,
   "metadata": {},
   "outputs": [
    {
     "name": "stdout",
     "output_type": "stream",
     "text": [
      "Overall performance (LogLoss) = 7.33\n"
     ]
    }
   ],
   "source": [
    "# Expected LogLoss is cross-entropy. This is the most standard general purpose EPSR. You can also try \n",
    "# Brier. Yet, as we show in a separate notebook, for problems in which we might end up using extreme\n",
    "# thresholds on the posteriors (for example, in a medical scenario where errors in one class are\n",
    "# much more costly than errors in another class), Brier score may not be a great choice since it\n",
    "# does not adequately penalize extreme errors in the posteriors. \n",
    "\n",
    "metric = LogLoss \n",
    "# If you want to try Brier:\n",
    "# metric = Brier\n",
    "\n",
    "# Finally, if the priors in your held-out and test data are not the ones you expect to see at\n",
    "# deployment, set the deploy_priors variable to the ones you expect to see in practice. Else, leave\n",
    "# it as None in which case, the code will compute them from the data.\n",
    "deploy_priors = None \n",
    "\n",
    "overall_perf = metric(scores_tst, targets_tst, priors=deploy_priors, norm=True)\n",
    "\n",
    "print(f\"Overall performance ({metric.__name__}) = {overall_perf:4.2f}\" )"
   ]
  },
  {
   "attachments": {},
   "cell_type": "markdown",
   "metadata": {},
   "source": [
    "## Calibrate the test scores\n",
    "\n",
    "This is the step that depends on whether you have some held-out data for training the calibrator or not. \n",
    "First, it is important to remember that the data we use to train the calibration transform should not have been used for training the classifier that is producing the posteriors, since the posteriors on that data will likely be very good. In particular, if the model was trained with cross-entropy as objective function, the posteriors on the training data will be perfectly or close to perfectly calibrated. Yet, this may not be the case on unseen data. \n",
    "\n",
    "There are three typical data scenarios:\n",
    "\n",
    "1. You have your test set and some held-out set you have not used for training. You might have used it for hyperparameter tuning. That is generally fine, unless the tuning explored so many combinations that the scores in that set may be too optimistic. In that case, it may not be a good idea to use that held-out set for training the calibration model and you would be on one of the next two scenarios.\n",
    "2. You only have a test set but you can split it into test and held-out because it is large enough and you do not need to compare results with other systems that were run in the full test set, or\n",
    "3. You only have a test set but you cannot split it, either because it is too small or because you want to keep evaluating on the full set to enable comparisons with the literature or your prior work.\n",
    "\n",
    "Cases 1 and 2 are the simplest: in either case you have a separate set you can use for training the calibration transform. \n",
    "\n",
    "Case 3, on the other hand, is more challenging. The naive solution in that case is to train the calibration model on the test data itself. This is what most if not all papers in the calibration literature do. Calibration metrics are computed on the test data by adjusting, either implicitly or explicitly, some calibration transformation on that same data. This leads to potential overestimation of the calibration error. The solution to this problem is quite simple, though. We can use cross-validation on the test data to generate unbiased calibrated scores. An analysis of the effect of training the calibration transform on the test data, including a comparison with the ECE metric, is given in a separate notebook. "
   ]
  },
  {
   "cell_type": "code",
   "execution_count": 6,
   "metadata": {},
   "outputs": [],
   "source": [
    "# Set the variable to true if you have held-out scores for training the calibration transform. This\n",
    "# includes the case in which you want to do train-on-test (ie, train the transform on the test data\n",
    "# itself). If you set scores_trn to None in the first cell, the following cell already took care of\n",
    "# setting those scores to be the test scores so your training data is your test data. Hence, by\n",
    "# setting scores_trn=None in the first cell and have_trn_data=True in the next line, you will be\n",
    "# doing train-on-test calibration.\n",
    "have_trn_data = False\n",
    "\n",
    "# Next, define the calibration method which can be AffineCalLogLoss, AffineCalBrier or\n",
    "# HistogramBinningCal. If set to HistogramBinningCal, the resulting calibration model is the one\n",
    "# used by the ECE metric. If you are using LogLoss as metric it is reasonable to also use LogLoss as\n",
    "# objective function for training the calibration transform, so set calmethod to AffineCalLogLoss.\n",
    "# Similarly, if you are using Brier as metric, use Brier as objective, setting calmethod to\n",
    "# AffineCalBrier.\n",
    "calmethod = AffineCalLogLoss\n",
    "\n",
    "# If use_bias is set to False, AffineCal becomes temperature scaling. Note that temp scaling is not\n",
    "# adequate when there's mismatch between the priors in the data used to train the classifier and the\n",
    "# priors in the held-out and test data (the priors should be the same in both of these two sets but\n",
    "# they can be different from the ones in training since we are assuming we may have no control over\n",
    "# the classifier). In any case, it usually quite safe to leave use_bias as True. If the bias is not\n",
    "# needed, it will become 0. The one exception to this is if you have an extremely small amount of\n",
    "# data and a large number of classes. In that case, if you are sure the priors in test and held-out\n",
    "# are matched to the ones in the training data, you can set use_bias to False.\n",
    "use_bias = True\n",
    "\n",
    "calparams = {'bias': use_bias, 'priors': deploy_priors}\n",
    "\n",
    "if have_trn_data:\n",
    "    # Train the calibration transform on the training training data and apply it to the test data\n",
    "    scores_tst_cal, calmodel = calibration_train_on_heldout(scores_tst, scores_trn, targets_trn, \n",
    "                                                            calparams=calparams, calmethod=calmethod)\n",
    "\n",
    "else:\n",
    "    # If held-out data is not available for training, use cross-validation on the test data to \n",
    "    # get calibrated scores. Here is where we need the conditions ids to make sure that the folds\n",
    "    # are determined by condition to prevent overly optimistic results.\n",
    "    # Set stratified to True if you want to assume that the priors are always known with certainty.\n",
    "    # Else, if you want to consider the possible random variation in priors due to the sampling of the\n",
    "    # data, then set stratified to False.\n",
    "    scores_tst_cal = calibration_with_crossval(scores_tst, targets_tst, calparams=calparams, \n",
    "                                               calmethod=calmethod, condition_ids=condition_ids, \n",
    "                                               stratified=True, nfolds=5)\n",
    "\n",
    "    # The method above does not return a calibration model since there are nfold of them.\n",
    "    # To get a final calibration model to be used on new data if needed, we train it on the whole\n",
    "    # test set. This is the model we could eventually deploy if we find that the calibration loss \n",
    "    # is large.\n",
    "    _, calmodel = calibration_train_on_heldout(scores_tst, scores_tst, targets_tst, calparams=calparams, \n",
    "                                               calmethod=calmethod, return_model=True)\n",
    "\n"
   ]
  },
  {
   "attachments": {},
   "cell_type": "markdown",
   "metadata": {},
   "source": [
    "## Compute calibration loss\n",
    "\n",
    "We are now ready to compute calibration loss as the difference between the EPSR before and after calibration"
   ]
  },
  {
   "cell_type": "code",
   "execution_count": 7,
   "metadata": {},
   "outputs": [
    {
     "name": "stdout",
     "output_type": "stream",
     "text": [
      "Overall performance before calibration (LogLoss) = 7.33\n",
      "Overall performance after calibration (LogLoss) = 0.39\n",
      "Calibration loss = 6.94\n",
      "Relative calibration loss = 94.7%\n"
     ]
    }
   ],
   "source": [
    "overall_perf_after_cal = metric(scores_tst_cal, targets_tst, priors=deploy_priors, norm=True)\n",
    "\n",
    "cal_loss = overall_perf-overall_perf_after_cal\n",
    "\n",
    "rel_cal_loss = 100*cal_loss/overall_perf\n",
    "\n",
    "print(f\"Overall performance before calibration ({metric.__name__}) = {overall_perf:4.2f}\" ) \n",
    "print(f\"Overall performance after calibration ({metric.__name__}) = {overall_perf_after_cal:4.2f}\" ) \n",
    "print(f\"Calibration loss = {cal_loss:4.2f}\" ) \n",
    "print(f\"Relative calibration loss = {rel_cal_loss:4.1f}%\" ) \n"
   ]
  },
  {
   "attachments": {},
   "cell_type": "markdown",
   "metadata": {},
   "source": [
    "## Add calibration stage to your system\n",
    "\n",
    "If rel_cal_loss is large, then we know we would benefit from adding a calibration stage after the classifier. At this point there's nothing more you need to do since you already have the calibration model (calmodel from a cell above) and you already know what the performance of the new system with the calibration stage in it will be: overall_perf_after_calibration. \n",
    "\n",
    "**Warning:** if you are doing train-on-test, then the performance after calibration on unseen data may not be well-predicted by overall_perf_after_calibration. This is because that performance was obtained with a cheating calibration model. Hence, overall_perf_after_calibration may be lower than it would be on unseen data. This is the reason why we do not recommend the usual train-on-test approach to computing calibration loss. When doing that, the resulting metric tell us something that is not practically useful since we may never be able to achieve that performance. On the other hand, if we avoid cheating when training calmodel, we can trust that the estimated overall_perf_after_calibration is an unbiased estimator of the performance we would get with that same model on unseen data. Of course, if the datasets are small, the estimated performance may still be different from the one we get in practice. This variability can be assessed by computing confidence intervals, as discussed in another notebook.\n",
    "\n"
   ]
  },
  {
   "attachments": {},
   "cell_type": "markdown",
   "metadata": {},
   "source": [
    "## Summary\n",
    "\n",
    "To summarize, the code below shows all the steps needed to assess and fix calibration together, assuming you have already loaded your test and held-out scores in the corresponding scores and target variables."
   ]
  },
  {
   "cell_type": "code",
   "execution_count": 8,
   "metadata": {},
   "outputs": [
    {
     "name": "stdout",
     "output_type": "stream",
     "text": [
      "Overall performance before calibration (LogLoss) = 7.33\n",
      "Overall performance after calibration (LogLoss) = 0.39\n",
      "Calibration loss = 6.94\n",
      "Relative calibration loss = 94.7%\n"
     ]
    }
   ],
   "source": [
    "# Choose EPSR, calibration method, and, optionally, set the priors to the deployment ones\n",
    "metric = LogLoss \n",
    "calmethod = AffineCalLogLoss\n",
    "use_bias = True\n",
    "deploy_priors = None\n",
    "calparams = {'bias': use_bias, 'priors': deploy_priors}\n",
    "\n",
    "# If you have held-out data or want to do train-on-test (in this case, use the line\n",
    "# below with scores_trn=scores_tst, target_trn=target_tst):\n",
    "scores_tst_cal, calmodel = calibration_train_on_heldout(scores_tst, scores_trn, targets_trn, calparams=calparams, \n",
    "                                                        calmethod=calmethod, return_model=True)\n",
    "\n",
    "# Alternatively, if all you have is test data, first do cross-validation to get the calibration\n",
    "# loss, and then retrain the calibration model on all that data. This is the calibration model you\n",
    "# would deploy if you find out that calibration loss is large.\n",
    "# scores_tst_cal = calibration_with_crossval(scores_tst, targets_tst, calparams=calparams, calmethod=calmethod)\n",
    "# _, calmodel = calibration_train_on_heldout(scores_tst, scores_tst, targets_tst, calparams=calparams, \n",
    "#                                           calmethod=calmethod, return_model=True)\n",
    "\n",
    "# Finally, compute the metric before and after calibration\n",
    "overall_perf = metric(scores_tst, targets_tst, priors=deploy_priors, norm=True)\n",
    "overall_perf_after_cal = metric(scores_tst_cal, targets_tst, priors=deploy_priors, norm=True)\n",
    "cal_loss = overall_perf-overall_perf_after_cal\n",
    "rel_cal_loss = 100*cal_loss/overall_perf\n",
    "\n",
    "print(f\"Overall performance before calibration ({metric.__name__}) = {overall_perf:4.2f}\" ) \n",
    "print(f\"Overall performance after calibration ({metric.__name__}) = {overall_perf_after_cal:4.2f}\" ) \n",
    "print(f\"Calibration loss = {cal_loss:4.2f}\" ) \n",
    "print(f\"Relative calibration loss = {rel_cal_loss:4.1f}%\" ) \n",
    "\n"
   ]
  }
 ],
 "metadata": {
  "colab": {
   "collapsed_sections": [],
   "provenance": []
  },
  "kernelspec": {
   "display_name": "Python 3 (ipykernel)",
   "language": "python",
   "name": "python3"
  },
  "language_info": {
   "codemirror_mode": {
    "name": "ipython",
    "version": 3
   },
   "file_extension": ".py",
   "mimetype": "text/x-python",
   "name": "python",
   "nbconvert_exporter": "python",
   "pygments_lexer": "ipython3",
   "version": "3.9.13"
  }
 },
 "nbformat": 4,
 "nbformat_minor": 1
}
